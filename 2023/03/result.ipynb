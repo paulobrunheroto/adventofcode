{
 "cells": [
  {
   "cell_type": "markdown",
   "metadata": {},
   "source": [
    "# Part 1 - Gear Ratios"
   ]
  },
  {
   "cell_type": "code",
   "execution_count": null,
   "metadata": {},
   "outputs": [],
   "source": [
    "import re\n",
    "import numpy as np\n",
    "\n",
    "df = list(open('input.txt'))"
   ]
  },
  {
   "cell_type": "markdown",
   "metadata": {},
   "source": [
    "Get symbols and numbers positions"
   ]
  },
  {
   "cell_type": "code",
   "execution_count": 3,
   "metadata": {},
   "outputs": [],
   "source": [
    "num_pos = {}\n",
    "symbol_pos = []\n",
    "for y, row in enumerate(df):\n",
    "    # Find positions for non alphanumeric except for . and \\n\n",
    "    for symbol_x in [m.start() for m in re.finditer(r'[^a-zA-Z0-9.\\n]', row)]:\n",
    "        symbol_pos += [(y, symbol_x)]\n",
    "\n",
    "    # Find numbers positions\n",
    "    for number in re.finditer(r'\\d+', row):\n",
    "        if number.group() not in num_pos.keys():\n",
    "            num_pos[number.group()] = []\n",
    "        num_pos[number.group()] += [[(y,x) for x in range(number.start(), number.end())]]"
   ]
  },
  {
   "cell_type": "markdown",
   "metadata": {},
   "source": [
    "Get borders positions (all positions adjacent to symbols)"
   ]
  },
  {
   "cell_type": "code",
   "execution_count": 4,
   "metadata": {},
   "outputs": [],
   "source": [
    "borders = set([(pos_x+x,pos_y+y) for x in range(-1,2) for y in range(-1,2) for pos_x,pos_y in symbol_pos])"
   ]
  },
  {
   "cell_type": "markdown",
   "metadata": {},
   "source": [
    "Calculate the sum of numbers that intersect any of the borders (adjacent positions)"
   ]
  },
  {
   "cell_type": "code",
   "execution_count": 5,
   "metadata": {},
   "outputs": [
    {
     "name": "stdout",
     "output_type": "stream",
     "text": [
      "530849\n"
     ]
    }
   ],
   "source": [
    "total = 0\n",
    "for number in num_pos.keys():\n",
    "    for pos in num_pos[number]:\n",
    "        if len(borders.intersection(set(pos))) > 0:\n",
    "            total += int(number)\n",
    "print(total)"
   ]
  },
  {
   "cell_type": "markdown",
   "metadata": {},
   "source": [
    "# Part 2 - Gear Ratios"
   ]
  },
  {
   "cell_type": "code",
   "execution_count": null,
   "metadata": {},
   "outputs": [],
   "source": [
    "import re\n",
    "import numpy as np\n",
    "\n",
    "df = list(open('input.txt'))"
   ]
  },
  {
   "cell_type": "markdown",
   "metadata": {},
   "source": [
    "Get symbols, number and borders positions (adjacents)"
   ]
  },
  {
   "cell_type": "code",
   "execution_count": 41,
   "metadata": {},
   "outputs": [],
   "source": [
    "num_pos = {}\n",
    "symbol_pos = []\n",
    "for y, row in enumerate(df):\n",
    "    # Find * positions\n",
    "    for symbol_x in [m.start() for m in re.finditer(r'\\*', row)]:\n",
    "        symbol_pos += [(y, symbol_x)]\n",
    "\n",
    "    # Find numbers positions\n",
    "    for number in re.finditer(r'\\d+', row):\n",
    "        if number.group() not in num_pos.keys():\n",
    "            num_pos[number.group()] = []\n",
    "        num_pos[number.group()] += [[(y,x) for x in range(number.start(), number.end())]]"
   ]
  },
  {
   "cell_type": "markdown",
   "metadata": {},
   "source": [
    "Get borders positions for each symbol position"
   ]
  },
  {
   "cell_type": "code",
   "execution_count": 36,
   "metadata": {},
   "outputs": [],
   "source": [
    "borders_dict = {}\n",
    "for pos in symbol_pos:\n",
    "    borders_dict[pos] = [(pos[0]+x,pos[1]+y) for x in range(-1,2) for y in range(-1,2)]"
   ]
  },
  {
   "cell_type": "markdown",
   "metadata": {},
   "source": [
    "Find the numbers adjacent to each symbol position"
   ]
  },
  {
   "cell_type": "code",
   "execution_count": 37,
   "metadata": {},
   "outputs": [],
   "source": [
    "total = 0\n",
    "intersections = {}\n",
    "for number in num_pos.keys():\n",
    "    for pos in num_pos[number]:\n",
    "        for symbol in borders_dict:\n",
    "            if len(set(borders_dict[symbol]).intersection(set(pos))) > 0:\n",
    "                if symbol not in intersections.keys():\n",
    "                    intersections[symbol] = []\n",
    "                intersections[symbol] += [int(number)]"
   ]
  },
  {
   "cell_type": "markdown",
   "metadata": {},
   "source": [
    "Calculate the product of positions with exatcly two numbers and then sum the result"
   ]
  },
  {
   "cell_type": "code",
   "execution_count": 39,
   "metadata": {},
   "outputs": [
    {
     "name": "stdout",
     "output_type": "stream",
     "text": [
      "84900879\n"
     ]
    }
   ],
   "source": [
    "total = 0\n",
    "for i in intersections.values():\n",
    "    if len(i) == 2:\n",
    "        total += np.prod(i)\n",
    "print(total)"
   ]
  }
 ],
 "metadata": {
  "kernelspec": {
   "display_name": "Python 3",
   "language": "python",
   "name": "python3"
  },
  "language_info": {
   "codemirror_mode": {
    "name": "ipython",
    "version": 3
   },
   "file_extension": ".py",
   "mimetype": "text/x-python",
   "name": "python",
   "nbconvert_exporter": "python",
   "pygments_lexer": "ipython3",
   "version": "3.9.12"
  }
 },
 "nbformat": 4,
 "nbformat_minor": 2
}
